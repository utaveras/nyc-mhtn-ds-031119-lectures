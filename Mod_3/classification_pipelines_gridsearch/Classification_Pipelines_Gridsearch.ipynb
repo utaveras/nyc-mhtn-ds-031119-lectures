{
 "cells": [
  {
   "cell_type": "markdown",
   "metadata": {},
   "source": [
    "# Starting off\n",
    "\n",
    "1. What is regularization? \n",
    "\n",
    "2. What is the goal of implementing regularization (Ridge and Lasso) for a linear model?"
   ]
  },
  {
   "cell_type": "markdown",
   "metadata": {},
   "source": [
    "## Regularized Logistic Regression"
   ]
  },
  {
   "cell_type": "markdown",
   "metadata": {},
   "source": [
    "Similar to the linear regression, even logistic regression is prone to overfitting if there are large number of features.\n",
    "\n",
    "So, the cost function of the logistic regression can be updated to penalize high values of the parameters and is given by,\n",
    "\n",
    "$$J(\\theta) = -{1 \\over m} \\sum_{i=1}^m \\left( y^{(i)}\\,log(h_\\theta(x^{(i)}) + (1-y^{(i)})\\,log(1 - h_\\theta(x^{(i)})) \\right) + {\\lambda \\over 2m } \\sum_{j=1}^n \\theta_j^2 \\tag{1}$$\n",
    "\n",
    "Where: \n",
    "\n",
    "- ${\\lambda \\over 2m } \\sum_{j=1}^n \\theta_j^2$ **is the regularization term**\n",
    "\n",
    "- $\\lambda$ is the **regularization factor**"
   ]
  },
  {
   "cell_type": "markdown",
   "metadata": {},
   "source": [
    "Questions\n",
    "1. Is the regularization term above Ridge or Lasso?\n",
    "2. How would would you chnage the term to be the other variation of regularization?\n"
   ]
  },
  {
   "cell_type": "code",
   "execution_count": 1,
   "metadata": {},
   "outputs": [],
   "source": [
    "import pandas as pd\n",
    "import numpy as np\n",
    "from sklearn import metrics"
   ]
  },
  {
   "cell_type": "code",
   "execution_count": 2,
   "metadata": {},
   "outputs": [],
   "source": [
    "# Read in data and split data to be used in the models\n",
    "titanic = pd.read_csv('cleaned_titanic.csv', index_col='PassengerId')\n",
    "\n",
    "# Create matrix of features\n",
    "X = titanic.drop('Survived', axis = 1) # grabs everything else but 'Survived'\n",
    "\n",
    "# Create target variable\n",
    "y = titanic['Survived'] # y is the column we're trying to predict\n",
    "\n",
    "# Create a list of the features being used in the \n",
    "feature_cols = X.columns"
   ]
  },
  {
   "cell_type": "code",
   "execution_count": 3,
   "metadata": {},
   "outputs": [
    {
     "data": {
      "text/html": [
       "<div>\n",
       "<style scoped>\n",
       "    .dataframe tbody tr th:only-of-type {\n",
       "        vertical-align: middle;\n",
       "    }\n",
       "\n",
       "    .dataframe tbody tr th {\n",
       "        vertical-align: top;\n",
       "    }\n",
       "\n",
       "    .dataframe thead th {\n",
       "        text-align: right;\n",
       "    }\n",
       "</style>\n",
       "<table border=\"1\" class=\"dataframe\">\n",
       "  <thead>\n",
       "    <tr style=\"text-align: right;\">\n",
       "      <th></th>\n",
       "      <th>Survived</th>\n",
       "      <th>Pclass</th>\n",
       "      <th>Age</th>\n",
       "      <th>SibSp</th>\n",
       "      <th>Parch</th>\n",
       "      <th>Fare</th>\n",
       "      <th>youngin</th>\n",
       "      <th>male</th>\n",
       "      <th>Q</th>\n",
       "      <th>S</th>\n",
       "    </tr>\n",
       "    <tr>\n",
       "      <th>PassengerId</th>\n",
       "      <th></th>\n",
       "      <th></th>\n",
       "      <th></th>\n",
       "      <th></th>\n",
       "      <th></th>\n",
       "      <th></th>\n",
       "      <th></th>\n",
       "      <th></th>\n",
       "      <th></th>\n",
       "      <th></th>\n",
       "    </tr>\n",
       "  </thead>\n",
       "  <tbody>\n",
       "    <tr>\n",
       "      <th>1</th>\n",
       "      <td>0</td>\n",
       "      <td>3</td>\n",
       "      <td>22.0</td>\n",
       "      <td>1</td>\n",
       "      <td>0</td>\n",
       "      <td>7.2500</td>\n",
       "      <td>0</td>\n",
       "      <td>1</td>\n",
       "      <td>0</td>\n",
       "      <td>1</td>\n",
       "    </tr>\n",
       "    <tr>\n",
       "      <th>2</th>\n",
       "      <td>1</td>\n",
       "      <td>1</td>\n",
       "      <td>38.0</td>\n",
       "      <td>1</td>\n",
       "      <td>0</td>\n",
       "      <td>71.2833</td>\n",
       "      <td>0</td>\n",
       "      <td>0</td>\n",
       "      <td>0</td>\n",
       "      <td>0</td>\n",
       "    </tr>\n",
       "    <tr>\n",
       "      <th>3</th>\n",
       "      <td>1</td>\n",
       "      <td>3</td>\n",
       "      <td>26.0</td>\n",
       "      <td>0</td>\n",
       "      <td>0</td>\n",
       "      <td>7.9250</td>\n",
       "      <td>0</td>\n",
       "      <td>0</td>\n",
       "      <td>0</td>\n",
       "      <td>1</td>\n",
       "    </tr>\n",
       "    <tr>\n",
       "      <th>4</th>\n",
       "      <td>1</td>\n",
       "      <td>1</td>\n",
       "      <td>35.0</td>\n",
       "      <td>1</td>\n",
       "      <td>0</td>\n",
       "      <td>53.1000</td>\n",
       "      <td>0</td>\n",
       "      <td>0</td>\n",
       "      <td>0</td>\n",
       "      <td>1</td>\n",
       "    </tr>\n",
       "    <tr>\n",
       "      <th>5</th>\n",
       "      <td>0</td>\n",
       "      <td>3</td>\n",
       "      <td>35.0</td>\n",
       "      <td>0</td>\n",
       "      <td>0</td>\n",
       "      <td>8.0500</td>\n",
       "      <td>0</td>\n",
       "      <td>1</td>\n",
       "      <td>0</td>\n",
       "      <td>1</td>\n",
       "    </tr>\n",
       "  </tbody>\n",
       "</table>\n",
       "</div>"
      ],
      "text/plain": [
       "             Survived  Pclass   Age  SibSp  Parch     Fare  youngin  male  Q  \\\n",
       "PassengerId                                                                    \n",
       "1                   0       3  22.0      1      0   7.2500        0     1  0   \n",
       "2                   1       1  38.0      1      0  71.2833        0     0  0   \n",
       "3                   1       3  26.0      0      0   7.9250        0     0  0   \n",
       "4                   1       1  35.0      1      0  53.1000        0     0  0   \n",
       "5                   0       3  35.0      0      0   8.0500        0     1  0   \n",
       "\n",
       "             S  \n",
       "PassengerId     \n",
       "1            1  \n",
       "2            0  \n",
       "3            1  \n",
       "4            1  \n",
       "5            1  "
      ]
     },
     "execution_count": 3,
     "metadata": {},
     "output_type": "execute_result"
    }
   ],
   "source": [
    "titanic.head()"
   ]
  },
  {
   "cell_type": "code",
   "execution_count": 4,
   "metadata": {},
   "outputs": [],
   "source": [
    "from sklearn.model_selection import train_test_split\n",
    "X_train, X_test, y_train, y_test = train_test_split(X, y, random_state=1)"
   ]
  },
  {
   "cell_type": "markdown",
   "metadata": {},
   "source": [
    "## Scaling our data\n",
    "\n",
    "**Don't Forget** that when utilizing regularization, you must scale your features so that scale of the features does not play a role in how the weights of the fetures are penalized. "
   ]
  },
  {
   "cell_type": "code",
   "execution_count": 5,
   "metadata": {
    "scrolled": true
   },
   "outputs": [
    {
     "name": "stderr",
     "output_type": "stream",
     "text": [
      "/Users/utaveras/anaconda3/lib/python3.7/site-packages/sklearn/preprocessing/data.py:645: DataConversionWarning: Data with input dtype int64, float64 were all converted to float64 by StandardScaler.\n",
      "  return self.partial_fit(X, y)\n",
      "/Users/utaveras/anaconda3/lib/python3.7/site-packages/sklearn/base.py:464: DataConversionWarning: Data with input dtype int64, float64 were all converted to float64 by StandardScaler.\n",
      "  return self.fit(X, **fit_params).transform(X)\n",
      "/Users/utaveras/anaconda3/lib/python3.7/site-packages/ipykernel_launcher.py:5: DataConversionWarning: Data with input dtype int64, float64 were all converted to float64 by StandardScaler.\n",
      "  \"\"\"\n"
     ]
    }
   ],
   "source": [
    "from sklearn.preprocessing import StandardScaler\n",
    "\n",
    "sc=StandardScaler()\n",
    "X_train_scaled= sc.fit_transform(X_train)\n",
    "X_test_scaled = sc.transform(X_test)"
   ]
  },
  {
   "cell_type": "code",
   "execution_count": 7,
   "metadata": {},
   "outputs": [],
   "source": [
    "from sklearn import linear_model\n",
    "from sklearn.model_selection import GridSearchCV"
   ]
  },
  {
   "cell_type": "code",
   "execution_count": 8,
   "metadata": {},
   "outputs": [],
   "source": [
    "# Create logistic regression\n",
    "logistic = linear_model.LogisticRegression()"
   ]
  },
  {
   "cell_type": "markdown",
   "metadata": {},
   "source": [
    "## Hyperparameter Tuning\n",
    "\n",
    "For regularized logistic regression, we are looking to tune two paramters.\n",
    "\n",
    "1. The type of regularization L2(ridge) or L1(Lasso)\n",
    "2. The size of regularization factor/term"
   ]
  },
  {
   "cell_type": "code",
   "execution_count": 9,
   "metadata": {},
   "outputs": [],
   "source": [
    "# Create regularization penalty space\n",
    "penalty = ['l1', 'l2']\n",
    "\n",
    "# Create regularization hyperparameter space\n",
    "C = C_param_range = [0.001,0.01,0.1, 0.5, 1, 2, 5, 10]\n",
    "\n",
    "# Create hyperparameter options\n",
    "hyperparameters = dict(C=C, penalty=penalty)"
   ]
  },
  {
   "cell_type": "code",
   "execution_count": 10,
   "metadata": {},
   "outputs": [],
   "source": [
    "# Create grid search using 5-fold cross validation\n",
    "clf_gs = GridSearchCV(logistic, hyperparameters, cv=5, scoring='f1') "
   ]
  },
  {
   "cell_type": "code",
   "execution_count": 11,
   "metadata": {},
   "outputs": [
    {
     "name": "stderr",
     "output_type": "stream",
     "text": [
      "/Users/utaveras/anaconda3/lib/python3.7/site-packages/sklearn/linear_model/logistic.py:433: FutureWarning: Default solver will be changed to 'lbfgs' in 0.22. Specify a solver to silence this warning.\n",
      "  FutureWarning)\n",
      "/Users/utaveras/anaconda3/lib/python3.7/site-packages/sklearn/metrics/classification.py:1143: UndefinedMetricWarning: F-score is ill-defined and being set to 0.0 due to no predicted samples.\n",
      "  'precision', 'predicted', average, warn_for)\n",
      "/Users/utaveras/anaconda3/lib/python3.7/site-packages/sklearn/metrics/classification.py:1143: UndefinedMetricWarning: F-score is ill-defined and being set to 0.0 due to no predicted samples.\n",
      "  'precision', 'predicted', average, warn_for)\n",
      "/Users/utaveras/anaconda3/lib/python3.7/site-packages/sklearn/linear_model/logistic.py:433: FutureWarning: Default solver will be changed to 'lbfgs' in 0.22. Specify a solver to silence this warning.\n",
      "  FutureWarning)\n",
      "/Users/utaveras/anaconda3/lib/python3.7/site-packages/sklearn/metrics/classification.py:1143: UndefinedMetricWarning: F-score is ill-defined and being set to 0.0 due to no predicted samples.\n",
      "  'precision', 'predicted', average, warn_for)\n",
      "/Users/utaveras/anaconda3/lib/python3.7/site-packages/sklearn/metrics/classification.py:1143: UndefinedMetricWarning: F-score is ill-defined and being set to 0.0 due to no predicted samples.\n",
      "  'precision', 'predicted', average, warn_for)\n",
      "/Users/utaveras/anaconda3/lib/python3.7/site-packages/sklearn/linear_model/logistic.py:433: FutureWarning: Default solver will be changed to 'lbfgs' in 0.22. Specify a solver to silence this warning.\n",
      "  FutureWarning)\n",
      "/Users/utaveras/anaconda3/lib/python3.7/site-packages/sklearn/metrics/classification.py:1143: UndefinedMetricWarning: F-score is ill-defined and being set to 0.0 due to no predicted samples.\n",
      "  'precision', 'predicted', average, warn_for)\n",
      "/Users/utaveras/anaconda3/lib/python3.7/site-packages/sklearn/metrics/classification.py:1143: UndefinedMetricWarning: F-score is ill-defined and being set to 0.0 due to no predicted samples.\n",
      "  'precision', 'predicted', average, warn_for)\n",
      "/Users/utaveras/anaconda3/lib/python3.7/site-packages/sklearn/linear_model/logistic.py:433: FutureWarning: Default solver will be changed to 'lbfgs' in 0.22. Specify a solver to silence this warning.\n",
      "  FutureWarning)\n",
      "/Users/utaveras/anaconda3/lib/python3.7/site-packages/sklearn/metrics/classification.py:1143: UndefinedMetricWarning: F-score is ill-defined and being set to 0.0 due to no predicted samples.\n",
      "  'precision', 'predicted', average, warn_for)\n",
      "/Users/utaveras/anaconda3/lib/python3.7/site-packages/sklearn/metrics/classification.py:1143: UndefinedMetricWarning: F-score is ill-defined and being set to 0.0 due to no predicted samples.\n",
      "  'precision', 'predicted', average, warn_for)\n",
      "/Users/utaveras/anaconda3/lib/python3.7/site-packages/sklearn/linear_model/logistic.py:433: FutureWarning: Default solver will be changed to 'lbfgs' in 0.22. Specify a solver to silence this warning.\n",
      "  FutureWarning)\n",
      "/Users/utaveras/anaconda3/lib/python3.7/site-packages/sklearn/metrics/classification.py:1143: UndefinedMetricWarning: F-score is ill-defined and being set to 0.0 due to no predicted samples.\n",
      "  'precision', 'predicted', average, warn_for)\n",
      "/Users/utaveras/anaconda3/lib/python3.7/site-packages/sklearn/metrics/classification.py:1143: UndefinedMetricWarning: F-score is ill-defined and being set to 0.0 due to no predicted samples.\n",
      "  'precision', 'predicted', average, warn_for)\n",
      "/Users/utaveras/anaconda3/lib/python3.7/site-packages/sklearn/linear_model/logistic.py:433: FutureWarning: Default solver will be changed to 'lbfgs' in 0.22. Specify a solver to silence this warning.\n",
      "  FutureWarning)\n",
      "/Users/utaveras/anaconda3/lib/python3.7/site-packages/sklearn/linear_model/logistic.py:433: FutureWarning: Default solver will be changed to 'lbfgs' in 0.22. Specify a solver to silence this warning.\n",
      "  FutureWarning)\n",
      "/Users/utaveras/anaconda3/lib/python3.7/site-packages/sklearn/linear_model/logistic.py:433: FutureWarning: Default solver will be changed to 'lbfgs' in 0.22. Specify a solver to silence this warning.\n",
      "  FutureWarning)\n",
      "/Users/utaveras/anaconda3/lib/python3.7/site-packages/sklearn/linear_model/logistic.py:433: FutureWarning: Default solver will be changed to 'lbfgs' in 0.22. Specify a solver to silence this warning.\n",
      "  FutureWarning)\n",
      "/Users/utaveras/anaconda3/lib/python3.7/site-packages/sklearn/linear_model/logistic.py:433: FutureWarning: Default solver will be changed to 'lbfgs' in 0.22. Specify a solver to silence this warning.\n",
      "  FutureWarning)\n",
      "/Users/utaveras/anaconda3/lib/python3.7/site-packages/sklearn/linear_model/logistic.py:433: FutureWarning: Default solver will be changed to 'lbfgs' in 0.22. Specify a solver to silence this warning.\n",
      "  FutureWarning)\n",
      "/Users/utaveras/anaconda3/lib/python3.7/site-packages/sklearn/linear_model/logistic.py:433: FutureWarning: Default solver will be changed to 'lbfgs' in 0.22. Specify a solver to silence this warning.\n",
      "  FutureWarning)\n",
      "/Users/utaveras/anaconda3/lib/python3.7/site-packages/sklearn/linear_model/logistic.py:433: FutureWarning: Default solver will be changed to 'lbfgs' in 0.22. Specify a solver to silence this warning.\n",
      "  FutureWarning)\n",
      "/Users/utaveras/anaconda3/lib/python3.7/site-packages/sklearn/linear_model/logistic.py:433: FutureWarning: Default solver will be changed to 'lbfgs' in 0.22. Specify a solver to silence this warning.\n",
      "  FutureWarning)\n",
      "/Users/utaveras/anaconda3/lib/python3.7/site-packages/sklearn/linear_model/logistic.py:433: FutureWarning: Default solver will be changed to 'lbfgs' in 0.22. Specify a solver to silence this warning.\n",
      "  FutureWarning)\n",
      "/Users/utaveras/anaconda3/lib/python3.7/site-packages/sklearn/linear_model/logistic.py:433: FutureWarning: Default solver will be changed to 'lbfgs' in 0.22. Specify a solver to silence this warning.\n",
      "  FutureWarning)\n",
      "/Users/utaveras/anaconda3/lib/python3.7/site-packages/sklearn/linear_model/logistic.py:433: FutureWarning: Default solver will be changed to 'lbfgs' in 0.22. Specify a solver to silence this warning.\n",
      "  FutureWarning)\n",
      "/Users/utaveras/anaconda3/lib/python3.7/site-packages/sklearn/linear_model/logistic.py:433: FutureWarning: Default solver will be changed to 'lbfgs' in 0.22. Specify a solver to silence this warning.\n",
      "  FutureWarning)\n",
      "/Users/utaveras/anaconda3/lib/python3.7/site-packages/sklearn/linear_model/logistic.py:433: FutureWarning: Default solver will be changed to 'lbfgs' in 0.22. Specify a solver to silence this warning.\n",
      "  FutureWarning)\n",
      "/Users/utaveras/anaconda3/lib/python3.7/site-packages/sklearn/linear_model/logistic.py:433: FutureWarning: Default solver will be changed to 'lbfgs' in 0.22. Specify a solver to silence this warning.\n",
      "  FutureWarning)\n",
      "/Users/utaveras/anaconda3/lib/python3.7/site-packages/sklearn/linear_model/logistic.py:433: FutureWarning: Default solver will be changed to 'lbfgs' in 0.22. Specify a solver to silence this warning.\n",
      "  FutureWarning)\n",
      "/Users/utaveras/anaconda3/lib/python3.7/site-packages/sklearn/linear_model/logistic.py:433: FutureWarning: Default solver will be changed to 'lbfgs' in 0.22. Specify a solver to silence this warning.\n",
      "  FutureWarning)\n",
      "/Users/utaveras/anaconda3/lib/python3.7/site-packages/sklearn/linear_model/logistic.py:433: FutureWarning: Default solver will be changed to 'lbfgs' in 0.22. Specify a solver to silence this warning.\n",
      "  FutureWarning)\n",
      "/Users/utaveras/anaconda3/lib/python3.7/site-packages/sklearn/linear_model/logistic.py:433: FutureWarning: Default solver will be changed to 'lbfgs' in 0.22. Specify a solver to silence this warning.\n",
      "  FutureWarning)\n",
      "/Users/utaveras/anaconda3/lib/python3.7/site-packages/sklearn/linear_model/logistic.py:433: FutureWarning: Default solver will be changed to 'lbfgs' in 0.22. Specify a solver to silence this warning.\n",
      "  FutureWarning)\n",
      "/Users/utaveras/anaconda3/lib/python3.7/site-packages/sklearn/linear_model/logistic.py:433: FutureWarning: Default solver will be changed to 'lbfgs' in 0.22. Specify a solver to silence this warning.\n",
      "  FutureWarning)\n",
      "/Users/utaveras/anaconda3/lib/python3.7/site-packages/sklearn/linear_model/logistic.py:433: FutureWarning: Default solver will be changed to 'lbfgs' in 0.22. Specify a solver to silence this warning.\n",
      "  FutureWarning)\n",
      "/Users/utaveras/anaconda3/lib/python3.7/site-packages/sklearn/linear_model/logistic.py:433: FutureWarning: Default solver will be changed to 'lbfgs' in 0.22. Specify a solver to silence this warning.\n",
      "  FutureWarning)\n",
      "/Users/utaveras/anaconda3/lib/python3.7/site-packages/sklearn/linear_model/logistic.py:433: FutureWarning: Default solver will be changed to 'lbfgs' in 0.22. Specify a solver to silence this warning.\n",
      "  FutureWarning)\n",
      "/Users/utaveras/anaconda3/lib/python3.7/site-packages/sklearn/linear_model/logistic.py:433: FutureWarning: Default solver will be changed to 'lbfgs' in 0.22. Specify a solver to silence this warning.\n",
      "  FutureWarning)\n",
      "/Users/utaveras/anaconda3/lib/python3.7/site-packages/sklearn/linear_model/logistic.py:433: FutureWarning: Default solver will be changed to 'lbfgs' in 0.22. Specify a solver to silence this warning.\n",
      "  FutureWarning)\n",
      "/Users/utaveras/anaconda3/lib/python3.7/site-packages/sklearn/linear_model/logistic.py:433: FutureWarning: Default solver will be changed to 'lbfgs' in 0.22. Specify a solver to silence this warning.\n",
      "  FutureWarning)\n",
      "/Users/utaveras/anaconda3/lib/python3.7/site-packages/sklearn/linear_model/logistic.py:433: FutureWarning: Default solver will be changed to 'lbfgs' in 0.22. Specify a solver to silence this warning.\n",
      "  FutureWarning)\n",
      "/Users/utaveras/anaconda3/lib/python3.7/site-packages/sklearn/linear_model/logistic.py:433: FutureWarning: Default solver will be changed to 'lbfgs' in 0.22. Specify a solver to silence this warning.\n",
      "  FutureWarning)\n",
      "/Users/utaveras/anaconda3/lib/python3.7/site-packages/sklearn/linear_model/logistic.py:433: FutureWarning: Default solver will be changed to 'lbfgs' in 0.22. Specify a solver to silence this warning.\n",
      "  FutureWarning)\n",
      "/Users/utaveras/anaconda3/lib/python3.7/site-packages/sklearn/linear_model/logistic.py:433: FutureWarning: Default solver will be changed to 'lbfgs' in 0.22. Specify a solver to silence this warning.\n",
      "  FutureWarning)\n",
      "/Users/utaveras/anaconda3/lib/python3.7/site-packages/sklearn/linear_model/logistic.py:433: FutureWarning: Default solver will be changed to 'lbfgs' in 0.22. Specify a solver to silence this warning.\n",
      "  FutureWarning)\n",
      "/Users/utaveras/anaconda3/lib/python3.7/site-packages/sklearn/linear_model/logistic.py:433: FutureWarning: Default solver will be changed to 'lbfgs' in 0.22. Specify a solver to silence this warning.\n",
      "  FutureWarning)\n",
      "/Users/utaveras/anaconda3/lib/python3.7/site-packages/sklearn/linear_model/logistic.py:433: FutureWarning: Default solver will be changed to 'lbfgs' in 0.22. Specify a solver to silence this warning.\n",
      "  FutureWarning)\n",
      "/Users/utaveras/anaconda3/lib/python3.7/site-packages/sklearn/linear_model/logistic.py:433: FutureWarning: Default solver will be changed to 'lbfgs' in 0.22. Specify a solver to silence this warning.\n",
      "  FutureWarning)\n",
      "/Users/utaveras/anaconda3/lib/python3.7/site-packages/sklearn/linear_model/logistic.py:433: FutureWarning: Default solver will be changed to 'lbfgs' in 0.22. Specify a solver to silence this warning.\n",
      "  FutureWarning)\n",
      "/Users/utaveras/anaconda3/lib/python3.7/site-packages/sklearn/linear_model/logistic.py:433: FutureWarning: Default solver will be changed to 'lbfgs' in 0.22. Specify a solver to silence this warning.\n",
      "  FutureWarning)\n",
      "/Users/utaveras/anaconda3/lib/python3.7/site-packages/sklearn/linear_model/logistic.py:433: FutureWarning: Default solver will be changed to 'lbfgs' in 0.22. Specify a solver to silence this warning.\n",
      "  FutureWarning)\n",
      "/Users/utaveras/anaconda3/lib/python3.7/site-packages/sklearn/linear_model/logistic.py:433: FutureWarning: Default solver will be changed to 'lbfgs' in 0.22. Specify a solver to silence this warning.\n",
      "  FutureWarning)\n",
      "/Users/utaveras/anaconda3/lib/python3.7/site-packages/sklearn/linear_model/logistic.py:433: FutureWarning: Default solver will be changed to 'lbfgs' in 0.22. Specify a solver to silence this warning.\n",
      "  FutureWarning)\n",
      "/Users/utaveras/anaconda3/lib/python3.7/site-packages/sklearn/linear_model/logistic.py:433: FutureWarning: Default solver will be changed to 'lbfgs' in 0.22. Specify a solver to silence this warning.\n",
      "  FutureWarning)\n",
      "/Users/utaveras/anaconda3/lib/python3.7/site-packages/sklearn/linear_model/logistic.py:433: FutureWarning: Default solver will be changed to 'lbfgs' in 0.22. Specify a solver to silence this warning.\n",
      "  FutureWarning)\n",
      "/Users/utaveras/anaconda3/lib/python3.7/site-packages/sklearn/linear_model/logistic.py:433: FutureWarning: Default solver will be changed to 'lbfgs' in 0.22. Specify a solver to silence this warning.\n",
      "  FutureWarning)\n",
      "/Users/utaveras/anaconda3/lib/python3.7/site-packages/sklearn/linear_model/logistic.py:433: FutureWarning: Default solver will be changed to 'lbfgs' in 0.22. Specify a solver to silence this warning.\n",
      "  FutureWarning)\n",
      "/Users/utaveras/anaconda3/lib/python3.7/site-packages/sklearn/linear_model/logistic.py:433: FutureWarning: Default solver will be changed to 'lbfgs' in 0.22. Specify a solver to silence this warning.\n",
      "  FutureWarning)\n",
      "/Users/utaveras/anaconda3/lib/python3.7/site-packages/sklearn/linear_model/logistic.py:433: FutureWarning: Default solver will be changed to 'lbfgs' in 0.22. Specify a solver to silence this warning.\n",
      "  FutureWarning)\n",
      "/Users/utaveras/anaconda3/lib/python3.7/site-packages/sklearn/linear_model/logistic.py:433: FutureWarning: Default solver will be changed to 'lbfgs' in 0.22. Specify a solver to silence this warning.\n",
      "  FutureWarning)\n",
      "/Users/utaveras/anaconda3/lib/python3.7/site-packages/sklearn/linear_model/logistic.py:433: FutureWarning: Default solver will be changed to 'lbfgs' in 0.22. Specify a solver to silence this warning.\n",
      "  FutureWarning)\n",
      "/Users/utaveras/anaconda3/lib/python3.7/site-packages/sklearn/linear_model/logistic.py:433: FutureWarning: Default solver will be changed to 'lbfgs' in 0.22. Specify a solver to silence this warning.\n",
      "  FutureWarning)\n",
      "/Users/utaveras/anaconda3/lib/python3.7/site-packages/sklearn/linear_model/logistic.py:433: FutureWarning: Default solver will be changed to 'lbfgs' in 0.22. Specify a solver to silence this warning.\n",
      "  FutureWarning)\n",
      "/Users/utaveras/anaconda3/lib/python3.7/site-packages/sklearn/linear_model/logistic.py:433: FutureWarning: Default solver will be changed to 'lbfgs' in 0.22. Specify a solver to silence this warning.\n",
      "  FutureWarning)\n",
      "/Users/utaveras/anaconda3/lib/python3.7/site-packages/sklearn/linear_model/logistic.py:433: FutureWarning: Default solver will be changed to 'lbfgs' in 0.22. Specify a solver to silence this warning.\n",
      "  FutureWarning)\n",
      "/Users/utaveras/anaconda3/lib/python3.7/site-packages/sklearn/linear_model/logistic.py:433: FutureWarning: Default solver will be changed to 'lbfgs' in 0.22. Specify a solver to silence this warning.\n",
      "  FutureWarning)\n"
     ]
    },
    {
     "name": "stderr",
     "output_type": "stream",
     "text": [
      "/Users/utaveras/anaconda3/lib/python3.7/site-packages/sklearn/linear_model/logistic.py:433: FutureWarning: Default solver will be changed to 'lbfgs' in 0.22. Specify a solver to silence this warning.\n",
      "  FutureWarning)\n",
      "/Users/utaveras/anaconda3/lib/python3.7/site-packages/sklearn/linear_model/logistic.py:433: FutureWarning: Default solver will be changed to 'lbfgs' in 0.22. Specify a solver to silence this warning.\n",
      "  FutureWarning)\n",
      "/Users/utaveras/anaconda3/lib/python3.7/site-packages/sklearn/linear_model/logistic.py:433: FutureWarning: Default solver will be changed to 'lbfgs' in 0.22. Specify a solver to silence this warning.\n",
      "  FutureWarning)\n",
      "/Users/utaveras/anaconda3/lib/python3.7/site-packages/sklearn/linear_model/logistic.py:433: FutureWarning: Default solver will be changed to 'lbfgs' in 0.22. Specify a solver to silence this warning.\n",
      "  FutureWarning)\n",
      "/Users/utaveras/anaconda3/lib/python3.7/site-packages/sklearn/linear_model/logistic.py:433: FutureWarning: Default solver will be changed to 'lbfgs' in 0.22. Specify a solver to silence this warning.\n",
      "  FutureWarning)\n",
      "/Users/utaveras/anaconda3/lib/python3.7/site-packages/sklearn/linear_model/logistic.py:433: FutureWarning: Default solver will be changed to 'lbfgs' in 0.22. Specify a solver to silence this warning.\n",
      "  FutureWarning)\n",
      "/Users/utaveras/anaconda3/lib/python3.7/site-packages/sklearn/linear_model/logistic.py:433: FutureWarning: Default solver will be changed to 'lbfgs' in 0.22. Specify a solver to silence this warning.\n",
      "  FutureWarning)\n",
      "/Users/utaveras/anaconda3/lib/python3.7/site-packages/sklearn/linear_model/logistic.py:433: FutureWarning: Default solver will be changed to 'lbfgs' in 0.22. Specify a solver to silence this warning.\n",
      "  FutureWarning)\n",
      "/Users/utaveras/anaconda3/lib/python3.7/site-packages/sklearn/linear_model/logistic.py:433: FutureWarning: Default solver will be changed to 'lbfgs' in 0.22. Specify a solver to silence this warning.\n",
      "  FutureWarning)\n",
      "/Users/utaveras/anaconda3/lib/python3.7/site-packages/sklearn/linear_model/logistic.py:433: FutureWarning: Default solver will be changed to 'lbfgs' in 0.22. Specify a solver to silence this warning.\n",
      "  FutureWarning)\n",
      "/Users/utaveras/anaconda3/lib/python3.7/site-packages/sklearn/linear_model/logistic.py:433: FutureWarning: Default solver will be changed to 'lbfgs' in 0.22. Specify a solver to silence this warning.\n",
      "  FutureWarning)\n",
      "/Users/utaveras/anaconda3/lib/python3.7/site-packages/sklearn/linear_model/logistic.py:433: FutureWarning: Default solver will be changed to 'lbfgs' in 0.22. Specify a solver to silence this warning.\n",
      "  FutureWarning)\n",
      "/Users/utaveras/anaconda3/lib/python3.7/site-packages/sklearn/linear_model/logistic.py:433: FutureWarning: Default solver will be changed to 'lbfgs' in 0.22. Specify a solver to silence this warning.\n",
      "  FutureWarning)\n",
      "/Users/utaveras/anaconda3/lib/python3.7/site-packages/sklearn/linear_model/logistic.py:433: FutureWarning: Default solver will be changed to 'lbfgs' in 0.22. Specify a solver to silence this warning.\n",
      "  FutureWarning)\n",
      "/Users/utaveras/anaconda3/lib/python3.7/site-packages/sklearn/linear_model/logistic.py:433: FutureWarning: Default solver will be changed to 'lbfgs' in 0.22. Specify a solver to silence this warning.\n",
      "  FutureWarning)\n",
      "/Users/utaveras/anaconda3/lib/python3.7/site-packages/sklearn/linear_model/logistic.py:433: FutureWarning: Default solver will be changed to 'lbfgs' in 0.22. Specify a solver to silence this warning.\n",
      "  FutureWarning)\n",
      "/Users/utaveras/anaconda3/lib/python3.7/site-packages/sklearn/linear_model/logistic.py:433: FutureWarning: Default solver will be changed to 'lbfgs' in 0.22. Specify a solver to silence this warning.\n",
      "  FutureWarning)\n",
      "/Users/utaveras/anaconda3/lib/python3.7/site-packages/sklearn/linear_model/logistic.py:433: FutureWarning: Default solver will be changed to 'lbfgs' in 0.22. Specify a solver to silence this warning.\n",
      "  FutureWarning)\n",
      "/Users/utaveras/anaconda3/lib/python3.7/site-packages/sklearn/linear_model/logistic.py:433: FutureWarning: Default solver will be changed to 'lbfgs' in 0.22. Specify a solver to silence this warning.\n",
      "  FutureWarning)\n",
      "/Users/utaveras/anaconda3/lib/python3.7/site-packages/sklearn/linear_model/logistic.py:433: FutureWarning: Default solver will be changed to 'lbfgs' in 0.22. Specify a solver to silence this warning.\n",
      "  FutureWarning)\n",
      "/Users/utaveras/anaconda3/lib/python3.7/site-packages/sklearn/linear_model/logistic.py:433: FutureWarning: Default solver will be changed to 'lbfgs' in 0.22. Specify a solver to silence this warning.\n",
      "  FutureWarning)\n",
      "/Users/utaveras/anaconda3/lib/python3.7/site-packages/sklearn/linear_model/logistic.py:433: FutureWarning: Default solver will be changed to 'lbfgs' in 0.22. Specify a solver to silence this warning.\n",
      "  FutureWarning)\n",
      "/Users/utaveras/anaconda3/lib/python3.7/site-packages/sklearn/linear_model/logistic.py:433: FutureWarning: Default solver will be changed to 'lbfgs' in 0.22. Specify a solver to silence this warning.\n",
      "  FutureWarning)\n"
     ]
    }
   ],
   "source": [
    "# Fit grid search\n",
    "model = clf_gs.fit(X_train_scaled, y_train)"
   ]
  },
  {
   "cell_type": "code",
   "execution_count": 12,
   "metadata": {
    "scrolled": true
   },
   "outputs": [
    {
     "name": "stdout",
     "output_type": "stream",
     "text": [
      "Best Penalty: l2\n",
      "Best C: 0.1\n"
     ]
    }
   ],
   "source": [
    "# View best hyperparameters\n",
    "print('Best Penalty:', model.best_estimator_.get_params()['penalty'])\n",
    "print('Best C:', model.best_estimator_.get_params()['C'])"
   ]
  },
  {
   "cell_type": "code",
   "execution_count": 13,
   "metadata": {},
   "outputs": [
    {
     "name": "stdout",
     "output_type": "stream",
     "text": [
      "Training F1 Score: 0.7443762781186095\n",
      "Testing F1 Score: 0.7738095238095238\n"
     ]
    }
   ],
   "source": [
    "y_pred_train = model.best_estimator_.predict(X_train_scaled)\n",
    "\n",
    "y_pred_test = model.best_estimator_.predict(X_test_scaled)\n",
    "\n",
    "# Model Accuracy, how often is the classifier correct?\n",
    "print(\"Training F1 Score:\",metrics.f1_score(y_train, y_pred_train))\n",
    "print(\"Testing F1 Score:\",metrics.f1_score(y_test, y_pred_test))\n"
   ]
  },
  {
   "cell_type": "markdown",
   "metadata": {},
   "source": [
    "Let's look at our most impactful coefficients"
   ]
  },
  {
   "cell_type": "code",
<<<<<<< HEAD
   "execution_count": 14,
=======
   "execution_count": 39,
>>>>>>> upstream/master
   "metadata": {},
   "outputs": [
    {
     "data": {
      "text/plain": [
       "[('male', -1.051695903935688),\n",
       " ('Pclass', -0.7014954530109481),\n",
       " ('youngin', 0.40535887750673183),\n",
       " ('SibSp', -0.3178667200654721),\n",
       " ('S', -0.24236299332893146),\n",
       " ('Age', -0.22673337351782377),\n",
       " ('Fare', 0.13849761775467917),\n",
       " ('Parch', -0.10482955843420964),\n",
       " ('Q', -0.03927676632102542)]"
      ]
     },
<<<<<<< HEAD
     "execution_count": 14,
=======
     "execution_count": 39,
>>>>>>> upstream/master
     "metadata": {},
     "output_type": "execute_result"
    }
   ],
   "source": [
    "# Sort feature importances in descending order\n",
    "\n",
    "model_params = list(zip(feature_cols, model.best_estimator_.coef_[0]))\n",
    "\n",
    "model_params.sort(key = lambda x: abs(x[1]), reverse=True)\n",
    "model_params"
   ]
  },
  {
   "cell_type": "code",
<<<<<<< HEAD
   "execution_count": 15,
=======
   "execution_count": 40,
>>>>>>> upstream/master
   "metadata": {},
   "outputs": [
    {
     "data": {
      "image/png": "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\n",
      "text/plain": [
       "<Figure size 432x288 with 1 Axes>"
      ]
     },
     "metadata": {
      "needs_background": "light"
     },
     "output_type": "display_data"
    }
   ],
   "source": [
    "import matplotlib.pyplot as plt\n",
    "%matplotlib inline  \n",
    "\n",
    "# Rearrange feature names so they match the sorted feature importances\n",
    "model_features = [i[0] for i in model_params]\n",
    "\n",
    "feature_weights = [abs(i[1]) for i in model_params]\n",
    "\n",
    "# Create plot\n",
    "plt.figure()\n",
    "\n",
    "# Create plot title\n",
    "plt.title(\"Feature Importance\")\n",
    "\n",
    "# Add bars\n",
    "plt.bar(model_features, feature_weights)\n",
    "\n",
    "# Add feature names as x-axis labels\n",
    "# plt.xticks(range(X.shape[1]), names, rotation=90)\n",
    "\n",
    "# Show plot\n",
    "plt.show()"
   ]
  },
  {
   "cell_type": "markdown",
   "metadata": {},
   "source": [
    "## Using Decision Trees for feature selection"
   ]
  },
  {
   "cell_type": "code",
   "execution_count": 16,
   "metadata": {},
   "outputs": [
    {
     "name": "stdout",
     "output_type": "stream",
     "text": [
      "Training F1 Score: 0.9841897233201581\n",
      "Testing F1 Score: 0.736842105263158\n"
     ]
    }
   ],
   "source": [
    "from sklearn.tree import DecisionTreeClassifier\n",
    "# Create Decision Tree classifer object\n",
    "clf = DecisionTreeClassifier()\n",
    "\n",
    "# Train Decision Tree Classifer\n",
    "clf = clf.fit(X_train,y_train)\n",
    "\n",
    "#predict the training set\n",
    "y_pred_train = clf.predict(X_train)\n",
    "\n",
    "#Predict the response for test dataset\n",
    "y_pred_test = clf.predict(X_test)\n",
    "\n",
    "# Model Accuracy, how often is the classifier correct?\n",
    "print(\"Training F1 Score:\",metrics.f1_score(y_train, y_pred_train))\n",
    "print(\"Testing F1 Score:\",metrics.f1_score(y_test, y_pred_test))"
   ]
  },
  {
   "cell_type": "code",
   "execution_count": 17,
   "metadata": {},
   "outputs": [],
   "source": [
    "# Calculate feature importances\n",
    "importances = clf.feature_importances_\n"
   ]
  },
  {
   "cell_type": "code",
   "execution_count": 18,
   "metadata": {},
   "outputs": [
    {
     "data": {
      "image/png": "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\n",
      "text/plain": [
       "<Figure size 432x288 with 1 Axes>"
      ]
     },
     "metadata": {
      "needs_background": "light"
     },
     "output_type": "display_data"
    }
   ],
   "source": [
    " \n",
    "# Sort feature importances in descending order\n",
    "indices = np.argsort(importances)[::-1]\n",
    "\n",
    "# Rearrange feature names so they match the sorted feature importances\n",
    "names = [feature_cols[i] for i in indices]\n",
    "\n",
    "# Create plot\n",
    "plt.figure()\n",
    "\n",
    "# Create plot title\n",
    "plt.title(\"Feature Importance\")\n",
    "\n",
    "# Add bars\n",
    "plt.bar(range(X.shape[1]), importances[indices])\n",
    "\n",
    "# Add feature names as x-axis labels\n",
    "plt.xticks(range(X.shape[1]), names, rotation=90)\n",
    "\n",
    "# Show plot\n",
    "plt.show()"
   ]
  },
  {
   "cell_type": "markdown",
   "metadata": {},
   "source": [
    "Why do you think the feature 'younging' so important in the Logistic Regression, but not in the Decision Tree?"
   ]
  },
  {
   "cell_type": "markdown",
   "metadata": {},
   "source": [
    "## Using Pipelines"
   ]
  },
  {
   "cell_type": "code",
   "execution_count": 19,
   "metadata": {},
   "outputs": [],
   "source": [
    "from sklearn.metrics import accuracy_score\n",
    "from sklearn.metrics import f1_score\n"
   ]
  },
  {
   "cell_type": "code",
   "execution_count": 20,
   "metadata": {},
   "outputs": [],
   "source": [
    "from sklearn.pipeline import Pipeline\n",
    "from sklearn.preprocessing import PolynomialFeatures\n",
    "from sklearn.linear_model import LogisticRegression\n"
   ]
  },
  {
   "cell_type": "markdown",
   "metadata": {},
   "source": [
    "### Create a pipeline"
   ]
  },
  {
   "cell_type": "code",
   "execution_count": 21,
   "metadata": {},
   "outputs": [],
   "source": [
    "pipe_lr_poly = Pipeline([('poly', PolynomialFeatures(degree=3)),\n",
    "            ('scl', StandardScaler()),\n",
    "            ('clf', LogisticRegression(random_state=42))])"
   ]
  },
  {
   "cell_type": "markdown",
   "metadata": {},
   "source": [
    "### Create the dictionary of hyperparameters we want to test"
   ]
  },
  {
   "cell_type": "code",
   "execution_count": 22,
   "metadata": {},
   "outputs": [],
   "source": [
    "penalty_param_range = [1.0, 0.5, 0.1, .01]\n",
    "\n",
    "grid_params_lr = [{'clf__penalty': ['l1', 'l2'],\n",
    "\t\t'clf__C': penalty_param_range,\n",
    "\t\t'clf__solver': ['liblinear']}] "
   ]
  },
  {
   "cell_type": "markdown",
   "metadata": {},
   "source": [
    "### Use gridsearch with our pipeline to find best parameters"
   ]
  },
  {
   "cell_type": "code",
   "execution_count": 23,
   "metadata": {},
   "outputs": [],
   "source": [
    "gs_lr_poly = GridSearchCV(estimator=pipe_lr_poly,\n",
    "\t\t\tparam_grid=grid_params_lr,\n",
    "\t\t\tscoring='f1',\n",
    "\t\t\tcv=10)"
   ]
  },
  {
   "cell_type": "markdown",
   "metadata": {},
   "source": [
    "### Fit the gridsearch object to the data"
   ]
  },
  {
   "cell_type": "code",
   "execution_count": 24,
   "metadata": {},
   "outputs": [
    {
     "name": "stderr",
     "output_type": "stream",
     "text": [
      "/Users/utaveras/anaconda3/lib/python3.7/site-packages/sklearn/model_selection/_search.py:841: DeprecationWarning: The default of the `iid` parameter will change from True to False in version 0.22 and will be removed in 0.24. This will change numeric results when test-set sizes are unequal.\n",
      "  DeprecationWarning)\n"
     ]
    },
    {
     "data": {
      "text/plain": [
       "GridSearchCV(cv=10, error_score='raise-deprecating',\n",
       "       estimator=Pipeline(memory=None,\n",
       "     steps=[('poly', PolynomialFeatures(degree=3, include_bias=True, interaction_only=False)), ('scl', StandardScaler(copy=True, with_mean=True, with_std=True)), ('clf', LogisticRegression(C=1.0, class_weight=None, dual=False, fit_intercept=True,\n",
       "          intercept_scaling=1, max_iter=100, multi_class='warn',\n",
       "          n_jobs=None, penalty='l2', random_state=42, solver='warn',\n",
       "          tol=0.0001, verbose=0, warm_start=False))]),\n",
       "       fit_params=None, iid='warn', n_jobs=None,\n",
       "       param_grid=[{'clf__penalty': ['l1', 'l2'], 'clf__C': [1.0, 0.5, 0.1, 0.01], 'clf__solver': ['liblinear']}],\n",
       "       pre_dispatch='2*n_jobs', refit=True, return_train_score='warn',\n",
       "       scoring='f1', verbose=0)"
      ]
     },
     "execution_count": 24,
     "metadata": {},
     "output_type": "execute_result"
    }
   ],
   "source": [
    "gs_lr_poly.fit(X_train, y_train)\n"
   ]
  },
  {
   "cell_type": "markdown",
   "metadata": {},
   "source": [
    "### Identify the best performing models and see how it performs on the test set."
   ]
  },
  {
   "cell_type": "code",
   "execution_count": 25,
   "metadata": {},
   "outputs": [
    {
     "name": "stdout",
     "output_type": "stream",
     "text": [
      "Best params: {'clf__C': 0.01, 'clf__penalty': 'l2', 'clf__solver': 'liblinear'}\n",
      "Best training accuracy: 0.743\n",
      "Test set F1 score for best params: 0.778 \n"
     ]
    }
   ],
   "source": [
    "# Best params\n",
    "print('Best params: %s' % gs_lr_poly.best_params_)\n",
    "# Best training data accuracy\n",
    "print('Best training accuracy: %.3f' % gs_lr_poly.best_score_)\n",
    "# Predict on test data with best params\n",
    "y_pred = gs_lr_poly.predict(X_test)\n",
    "# Test data accuracy of model with best params\n",
    "print('Test set F1 score for best params: %.3f ' % f1_score(y_test, y_pred))"
   ]
  },
  {
   "cell_type": "code",
<<<<<<< HEAD
   "execution_count": 26,
=======
   "execution_count": 37,
>>>>>>> upstream/master
   "metadata": {},
   "outputs": [],
   "source": [
    "from sklearn.tree import DecisionTreeClassifier\n",
    "\n"
   ]
  },
  {
   "cell_type": "code",
<<<<<<< HEAD
   "execution_count": 27,
   "metadata": {},
   "outputs": [],
   "source": [
    "penalty_param_range = [1.0, 0.5, 0.1, .01]\n",
    "\n",
    "grid_params_lr = [{'clf__penalty': ['l1', 'l2'],'clf__C': penalty_param_range,'clf__solver': ['liblinear']}] "
=======
   "execution_count": 38,
   "metadata": {},
   "outputs": [
    {
     "data": {
      "text/plain": [
       "DecisionTreeClassifier(class_weight=None, criterion='gini', max_depth=None,\n",
       "            max_features=None, max_leaf_nodes=None,\n",
       "            min_impurity_decrease=0.0, min_impurity_split=None,\n",
       "            min_samples_leaf=1, min_samples_split=2,\n",
       "            min_weight_fraction_leaf=0.0, presort=False, random_state=None,\n",
       "            splitter='best')"
      ]
     },
     "execution_count": 38,
     "metadata": {},
     "output_type": "execute_result"
    }
   ],
   "source": [
    "DecisionTreeClassifier()"
   ]
  },
  {
   "cell_type": "code",
   "execution_count": 45,
   "metadata": {},
   "outputs": [],
   "source": [
    "tree_depth_range = list(range(1,20))\n",
    "max_features_range = list(range(1,10))\n",
    "grid_params_dt = [{'max_depth': tree_depth_range, \n",
    "                   'max_features': max_features_range}] "
   ]
  },
  {
   "cell_type": "code",
   "execution_count": 46,
   "metadata": {},
   "outputs": [],
   "source": [
    "gs_dt = GridSearchCV(estimator=DecisionTreeClassifier(),\n",
    "\t\t\tparam_grid=grid_params_dt,\n",
    "\t\t\tscoring='f1',\n",
    "\t\t\tcv=5)"
   ]
  },
  {
   "cell_type": "code",
   "execution_count": 47,
   "metadata": {},
   "outputs": [
    {
     "name": "stderr",
     "output_type": "stream",
     "text": [
      "/Users/swilson5/anaconda3/lib/python3.6/site-packages/sklearn/model_selection/_search.py:841: DeprecationWarning: The default of the `iid` parameter will change from True to False in version 0.22 and will be removed in 0.24. This will change numeric results when test-set sizes are unequal.\n",
      "  DeprecationWarning)\n"
     ]
    },
    {
     "data": {
      "text/plain": [
       "GridSearchCV(cv=5, error_score='raise-deprecating',\n",
       "       estimator=DecisionTreeClassifier(class_weight=None, criterion='gini', max_depth=None,\n",
       "            max_features=None, max_leaf_nodes=None,\n",
       "            min_impurity_decrease=0.0, min_impurity_split=None,\n",
       "            min_samples_leaf=1, min_samples_split=2,\n",
       "            min_weight_fraction_leaf=0.0, presort=False, random_state=None,\n",
       "            splitter='best'),\n",
       "       fit_params=None, iid='warn', n_jobs=None,\n",
       "       param_grid=[{'max_depth': [1, 2, 3, 4, 5, 6, 7, 8, 9, 10, 11, 12, 13, 14, 15, 16, 17, 18, 19], 'max_features': [1, 2, 3, 4, 5, 6, 7, 8, 9]}],\n",
       "       pre_dispatch='2*n_jobs', refit=True, return_train_score='warn',\n",
       "       scoring='f1', verbose=0)"
      ]
     },
     "execution_count": 47,
     "metadata": {},
     "output_type": "execute_result"
    }
   ],
   "source": [
    "gs_dt.fit(X_train, y_train)\n"
>>>>>>> upstream/master
   ]
  },
  {
   "cell_type": "code",
   "execution_count": 28,
   "metadata": {},
   "outputs": [],
   "source": [
    "gs_dt = GridSearchCV(DecisionTreeClassifier,grid_params_lr)"
   ]
  },
  {
   "cell_type": "code",
<<<<<<< HEAD
   "execution_count": 29,
   "metadata": {},
   "outputs": [],
   "source": [
    "from sklearn.neighbors import KNeighborsClassifier"
=======
   "execution_count": 49,
   "metadata": {},
   "outputs": [],
   "source": [
    "pipe_KNN_poly = Pipeline([('poly', PolynomialFeatures(degree=2)),\n",
    "            ('scl', StandardScaler()),\n",
    "            ('knn', KNeighborsClassifier())])"
>>>>>>> upstream/master
   ]
  },
  {
   "cell_type": "code",
<<<<<<< HEAD
   "execution_count": 31,
   "metadata": {},
   "outputs": [],
   "source": [
    "neighbors= list(range(1,20))\n",
    "grid_params_KNN = [{'knn__n_neighbors':neighbors, 'knn__weights': ['uniform', 'distance']}] "
=======
   "execution_count": 54,
   "metadata": {},
   "outputs": [],
   "source": [
    "\n",
    "neighbors= list(range(1,20,2))\n",
    "grid_params_KNN = [{'knn__n_neighbors':neighbors, 'knn__weights': ['uniform', 'distance']}] \n",
    "\n"
>>>>>>> upstream/master
   ]
  },
  {
   "cell_type": "code",
<<<<<<< HEAD
   "execution_count": 32,
   "metadata": {},
   "outputs": [
    {
     "ename": "TypeError",
     "evalue": "__init__() missing 1 required positional argument: 'param_grid'",
     "output_type": "error",
     "traceback": [
      "\u001b[0;31m---------------------------------------------------------------------------\u001b[0m",
      "\u001b[0;31mTypeError\u001b[0m                                 Traceback (most recent call last)",
      "\u001b[0;32m<ipython-input-32-205b7a77e00e>\u001b[0m in \u001b[0;36m<module>\u001b[0;34m\u001b[0m\n\u001b[1;32m      1\u001b[0m pipe_KNN_poly = GridSearchCV([('poly', PolynomialFeatures(degree=3)),\n\u001b[1;32m      2\u001b[0m             \u001b[0;34m(\u001b[0m\u001b[0;34m'scl'\u001b[0m\u001b[0;34m,\u001b[0m \u001b[0mStandardScaler\u001b[0m\u001b[0;34m(\u001b[0m\u001b[0;34m)\u001b[0m\u001b[0;34m)\u001b[0m\u001b[0;34m,\u001b[0m\u001b[0;34m\u001b[0m\u001b[0;34m\u001b[0m\u001b[0m\n\u001b[0;32m----> 3\u001b[0;31m             ('knn', KNeighborsClassifier())])\n\u001b[0m",
      "\u001b[0;31mTypeError\u001b[0m: __init__() missing 1 required positional argument: 'param_grid'"
     ]
    }
   ],
   "source": [
    "pipe_KNN_poly = GridSearchCV([('poly', PolynomialFeatures(degree=3)),\n",
    "            ('scl', StandardScaler()),\n",
    "            ('knn', KNeighborsClassifier())])"
   ]
  },
  {
   "cell_type": "code",
   "execution_count": null,
=======
   "execution_count": 55,
>>>>>>> upstream/master
   "metadata": {},
   "outputs": [],
   "source": [
    "gs_KNN_poly = GridSearchCV(estimator=pipe_KNN_poly,\n",
    "                           param_grid=grid_params_KNN,\n",
    "                           scoring='f1',\n",
    "                           cv=5)"
   ]
  },
  {
   "cell_type": "code",
<<<<<<< HEAD
   "execution_count": null,
   "metadata": {},
   "outputs": [],
=======
   "execution_count": 56,
   "metadata": {},
   "outputs": [
    {
     "data": {
      "text/plain": [
       "GridSearchCV(cv=5, error_score='raise-deprecating',\n",
       "       estimator=Pipeline(memory=None,\n",
       "     steps=[('poly', PolynomialFeatures(degree=2, include_bias=True, interaction_only=False)), ('scl', StandardScaler(copy=True, with_mean=True, with_std=True)), ('knn', KNeighborsClassifier(algorithm='auto', leaf_size=30, metric='minkowski',\n",
       "           metric_params=None, n_jobs=None, n_neighbors=5, p=2,\n",
       "           weights='uniform'))]),\n",
       "       fit_params=None, iid='warn', n_jobs=None,\n",
       "       param_grid=[{'knn__n_neighbors': [1, 3, 5, 7, 9, 11, 13, 15, 17, 19], 'knn__weights': ['uniform', 'distance']}],\n",
       "       pre_dispatch='2*n_jobs', refit=True, return_train_score='warn',\n",
       "       scoring='f1', verbose=0)"
      ]
     },
     "execution_count": 56,
     "metadata": {},
     "output_type": "execute_result"
    }
   ],
>>>>>>> upstream/master
   "source": [
    "gs_KNN_poly.fit(X_train, y_train)"
   ]
  },
  {
   "cell_type": "code",
   "execution_count": 57,
   "metadata": {},
   "outputs": [
    {
     "name": "stdout",
     "output_type": "stream",
     "text": [
      "Best params: {'knn__n_neighbors': 17, 'knn__weights': 'uniform'}\n",
      "Best training accuracy: 0.743\n",
      "Test set F1 score for best params: 0.742 \n"
     ]
    }
   ],
   "source": [
    "gs_KNN_poly.fit(X_train, y_train)\n",
    "# Best params\n",
    "print('Best params: %s' % gs_KNN_poly.best_params_)\n",
    "# Best training data accuracy\n",
    "print('Best training accuracy: %.3f' % gs_lr_poly.best_score_)\n",
    "# Predict on test data with best params\n",
    "y_pred = gs_KNN_poly.predict(X_test)\n",
    "# Test data accuracy of model with best params\n",
    "print('Test set F1 score for best params: %.3f ' % f1_score(y_test, y_pred))"
   ]
  },
  {
   "cell_type": "markdown",
   "metadata": {},
   "source": [
    "### Put all of our grid search objects in a list so that we can loop over all of them."
   ]
  },
  {
   "cell_type": "code",
   "execution_count": 58,
   "metadata": {},
   "outputs": [],
   "source": [
    "# List of pipelines for ease of iteration\n",
    "grids = [gs_lr_poly, gs_dt, gs_KNN_poly]\n",
    "\n",
    "# Dictionary of pipelines and classifier types for ease of reference\n",
    "grid_dict = {0: 'Logistic Regression', 1: 'Decision Tree', \n",
    "\t\t2: 'KNN'}\n"
   ]
  },
  {
   "cell_type": "markdown",
   "metadata": {},
   "source": [
    "### A script that loops over all of the grid search objects and identifies the best one. "
   ]
  },
  {
   "cell_type": "code",
   "execution_count": 59,
   "metadata": {},
   "outputs": [
    {
     "name": "stdout",
     "output_type": "stream",
     "text": [
      "Performing model optimizations...\n",
      "\n",
      "Estimator: Logistic Regression\n"
     ]
    },
    {
     "name": "stderr",
     "output_type": "stream",
     "text": [
      "/Users/swilson5/anaconda3/lib/python3.6/site-packages/sklearn/model_selection/_search.py:841: DeprecationWarning: The default of the `iid` parameter will change from True to False in version 0.22 and will be removed in 0.24. This will change numeric results when test-set sizes are unequal.\n",
      "  DeprecationWarning)\n",
      "/Users/swilson5/anaconda3/lib/python3.6/site-packages/sklearn/metrics/classification.py:1143: UndefinedMetricWarning: F-score is ill-defined and being set to 0.0 due to no predicted samples.\n",
      "  'precision', 'predicted', average, warn_for)\n",
      "/Users/swilson5/anaconda3/lib/python3.6/site-packages/sklearn/metrics/classification.py:1143: UndefinedMetricWarning: F-score is ill-defined and being set to 0.0 due to no predicted samples.\n",
      "  'precision', 'predicted', average, warn_for)\n",
      "/Users/swilson5/anaconda3/lib/python3.6/site-packages/sklearn/metrics/classification.py:1143: UndefinedMetricWarning: F-score is ill-defined and being set to 0.0 due to no predicted samples.\n",
      "  'precision', 'predicted', average, warn_for)\n",
      "/Users/swilson5/anaconda3/lib/python3.6/site-packages/sklearn/metrics/classification.py:1143: UndefinedMetricWarning: F-score is ill-defined and being set to 0.0 due to no predicted samples.\n",
      "  'precision', 'predicted', average, warn_for)\n"
     ]
    },
    {
     "name": "stdout",
     "output_type": "stream",
     "text": [
      "Best params: {'clf__C': 0.01, 'clf__penalty': 'l2', 'clf__solver': 'liblinear'}\n",
      "Best training F1: 0.743\n",
      "Test set F1 score for best params: 0.778 \n",
      "\n",
      "Estimator: Decision Tree\n"
     ]
    },
    {
     "name": "stderr",
     "output_type": "stream",
     "text": [
      "/Users/swilson5/anaconda3/lib/python3.6/site-packages/sklearn/metrics/classification.py:1143: UndefinedMetricWarning: F-score is ill-defined and being set to 0.0 due to no predicted samples.\n",
      "  'precision', 'predicted', average, warn_for)\n",
      "/Users/swilson5/anaconda3/lib/python3.6/site-packages/sklearn/metrics/classification.py:1143: UndefinedMetricWarning: F-score is ill-defined and being set to 0.0 due to no predicted samples.\n",
      "  'precision', 'predicted', average, warn_for)\n",
      "/Users/swilson5/anaconda3/lib/python3.6/site-packages/sklearn/model_selection/_search.py:841: DeprecationWarning: The default of the `iid` parameter will change from True to False in version 0.22 and will be removed in 0.24. This will change numeric results when test-set sizes are unequal.\n",
      "  DeprecationWarning)\n"
     ]
    },
    {
     "name": "stdout",
     "output_type": "stream",
     "text": [
      "Best params: {'max_depth': 5, 'max_features': 8}\n",
      "Best training F1: 0.716\n",
      "Test set F1 score for best params: 0.720 \n",
      "\n",
      "Estimator: KNN\n",
      "Best params: {'knn__n_neighbors': 17, 'knn__weights': 'uniform'}\n",
      "Best training F1: 0.728\n",
      "Test set F1 score for best params: 0.742 \n",
      "\n",
      "Classifier with best test set F1: Logistic Regression\n"
     ]
    }
   ],
   "source": [
    "# Fit the grid search objects\n",
    "print('Performing model optimizations...')\n",
    "best_f1 = 0.0\n",
    "best_clf = 0\n",
    "best_gs = ''\n",
    "for idx, gs in enumerate(grids):\n",
    "\tprint('\\nEstimator: %s' % grid_dict[idx])\t\n",
    "\t# Fit grid search\t\n",
    "\tgs.fit(X_train, y_train)\n",
    "\t# Best params\n",
    "\tprint('Best params: %s' % gs.best_params_)\n",
    "\t# Best training data accuracy\n",
    "\tprint('Best training F1: %.3f' % gs.best_score_)\n",
    "\t# Predict on test data with best params\n",
    "\ty_pred = gs.predict(X_test)\n",
    "\t# Test data accuracy of model with best params\n",
    "\tprint('Test set F1 score for best params: %.3f ' % f1_score(y_test, y_pred))\n",
    "\t# Track best (highest test accuracy) model\n",
    "\tif f1_score(y_test, y_pred) > best_f1:\n",
    "\t\tbest_f1 = f1_score(y_test, y_pred)\n",
    "\t\tbest_gs = gs\n",
    "\t\tbest_clf = idx\n",
    "print('\\nClassifier with best test set F1: %s' % grid_dict[best_clf])"
   ]
  },
  {
   "cell_type": "code",
   "execution_count": null,
   "metadata": {},
   "outputs": [],
   "source": []
  }
 ],
 "metadata": {
  "kernelspec": {
   "display_name": "Python 3",
   "language": "python",
   "name": "python3"
  },
  "language_info": {
   "codemirror_mode": {
    "name": "ipython",
    "version": 3
   },
   "file_extension": ".py",
   "mimetype": "text/x-python",
   "name": "python",
   "nbconvert_exporter": "python",
   "pygments_lexer": "ipython3",
   "version": "3.7.3"
  }
 },
 "nbformat": 4,
 "nbformat_minor": 2
}
